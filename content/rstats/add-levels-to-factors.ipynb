{
 "cells": [
  {
   "cell_type": "markdown",
   "metadata": {},
   "source": [
    "Title: Adding Levels To A Factor  \n",
    "Slug: add-levels-to-factors  \n",
    "Summary: Adding Levels To A Factor  \n",
    "Date: 2016-05-01 12:00  \n",
    "Category: R Stats  \n",
    "Tags: Basics  \n",
    "Authors: Chris Albon  "
   ]
  },
  {
   "cell_type": "code",
   "execution_count": 5,
   "metadata": {
    "collapsed": true
   },
   "outputs": [],
   "source": [
    "# create simulated distract name data\n",
    "district <- c(\"NORTH\", \"NORTHWEST\", \"CENTRAL\", \"SOUTH\", \"SOUTHWEST\", \"EAST\")\n",
    "\n",
    "# remake district categories with the combination of district categories and a new SOUTH CENTRAL category\n",
    "levels(district) <- c(district, \"SOUTH CENTRAL\")"
   ]
  },
  {
   "cell_type": "code",
   "execution_count": 6,
   "metadata": {
    "collapsed": false
   },
   "outputs": [
    {
     "data": {
      "text/plain": [
       "[1] \"NORTH\"         \"NORTHWEST\"     \"CENTRAL\"       \"SOUTH\"        \n",
       "[5] \"SOUTHWEST\"     \"EAST\"          \"SOUTH CENTRAL\""
      ]
     },
     "execution_count": 6,
     "metadata": {},
     "output_type": "execute_result"
    }
   ],
   "source": [
    "levels(district)"
   ]
  }
 ],
 "metadata": {
  "kernelspec": {
   "display_name": "R",
   "language": "",
   "name": "ir"
  },
  "language_info": {
   "codemirror_mode": "r",
   "file_extension": ".r",
   "mimetype": "text/x-r-source",
   "name": "R",
   "pygments_lexer": "r",
   "version": "3.2.3"
  }
 },
 "nbformat": 4,
 "nbformat_minor": 0
}
