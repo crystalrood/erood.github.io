{
 "cells": [
  {
   "cell_type": "markdown",
   "metadata": {},
   "source": [
    "Title: Two Way Frequency Table  \n",
    "Slug: 2-way-frequency-table  \n",
    "Summary: Two Way Frequency Table  \n",
    "Date: 2016-05-01 12:00  \n",
    "Category: R Stats  \n",
    "Tags: Data Visualization  \n",
    "Authors: Chris Albon  \n",
    "\n",
    "[Original source](http://www.statmethods.net/stats/frequencies.html)"
   ]
  },
  {
   "cell_type": "code",
   "execution_count": 7,
   "metadata": {
    "collapsed": false
   },
   "outputs": [],
   "source": [
    "# Create some data\n",
    "A <- c(\"yes\", \"no\",\"yes\", \"no\",\"yes\", \"no\",\"yes\", \"no\")\n",
    "B <- c(\"male\", \"female\",\"female\", \"male\",\"male\", \"male\",\"male\", \"male\")"
   ]
  },
  {
   "cell_type": "code",
   "execution_count": 8,
   "metadata": {
    "collapsed": false
   },
   "outputs": [],
   "source": [
    "# A will be rows, B will be columns\n",
    "mytable <- table(A,B) "
   ]
  },
  {
   "cell_type": "code",
   "execution_count": 9,
   "metadata": {
    "collapsed": false
   },
   "outputs": [
    {
     "data": {
      "text/plain": [
       "     B\n",
       "A     female male\n",
       "  no       1    3\n",
       "  yes      1    3"
      ]
     },
     "execution_count": 9,
     "metadata": {},
     "output_type": "execute_result"
    }
   ],
   "source": [
    "# print table\n",
    "mytable "
   ]
  },
  {
   "cell_type": "code",
   "execution_count": 10,
   "metadata": {
    "collapsed": false
   },
   "outputs": [
    {
     "data": {
      "text/plain": [
       "A\n",
       " no yes \n",
       "  4   4 "
      ]
     },
     "execution_count": 10,
     "metadata": {},
     "output_type": "execute_result"
    }
   ],
   "source": [
    "# A frequencies (summed over B)\n",
    "margin.table(mytable, 1) "
   ]
  },
  {
   "cell_type": "code",
   "execution_count": 11,
   "metadata": {
    "collapsed": false
   },
   "outputs": [
    {
     "data": {
      "text/plain": [
       "B\n",
       "female   male \n",
       "     2      6 "
      ]
     },
     "execution_count": 11,
     "metadata": {},
     "output_type": "execute_result"
    }
   ],
   "source": [
    "# B frequencies (summed over A)\n",
    "margin.table(mytable, 2) "
   ]
  },
  {
   "cell_type": "code",
   "execution_count": 12,
   "metadata": {
    "collapsed": false
   },
   "outputs": [
    {
     "data": {
      "text/plain": [
       "     B\n",
       "A     female  male\n",
       "  no   0.125 0.375\n",
       "  yes  0.125 0.375"
      ]
     },
     "execution_count": 12,
     "metadata": {},
     "output_type": "execute_result"
    }
   ],
   "source": [
    "# cell percentages\n",
    "prop.table(mytable) "
   ]
  },
  {
   "cell_type": "code",
   "execution_count": 13,
   "metadata": {
    "collapsed": false
   },
   "outputs": [
    {
     "data": {
      "text/plain": [
       "     B\n",
       "A     female male\n",
       "  no    0.25 0.75\n",
       "  yes   0.25 0.75"
      ]
     },
     "execution_count": 13,
     "metadata": {},
     "output_type": "execute_result"
    }
   ],
   "source": [
    "# row percentages\n",
    "prop.table(mytable, 1)"
   ]
  },
  {
   "cell_type": "code",
   "execution_count": 14,
   "metadata": {
    "collapsed": false
   },
   "outputs": [
    {
     "data": {
      "text/plain": [
       "     B\n",
       "A     female male\n",
       "  no     0.5  0.5\n",
       "  yes    0.5  0.5"
      ]
     },
     "execution_count": 14,
     "metadata": {},
     "output_type": "execute_result"
    }
   ],
   "source": [
    "# column percentages \n",
    "prop.table(mytable, 2) "
   ]
  }
 ],
 "metadata": {
  "kernelspec": {
   "display_name": "R",
   "language": "",
   "name": "ir"
  },
  "language_info": {
   "codemirror_mode": "r",
   "file_extension": ".r",
   "mimetype": "text/x-r-source",
   "name": "R",
   "pygments_lexer": "r",
   "version": "3.2.3"
  }
 },
 "nbformat": 4,
 "nbformat_minor": 0
}
