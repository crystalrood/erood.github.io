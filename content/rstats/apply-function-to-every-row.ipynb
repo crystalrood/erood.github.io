{
 "cells": [
  {
   "cell_type": "markdown",
   "metadata": {},
   "source": [
    "# Apply A Function On Every Row Of A Dataframe\n",
    "\n",
    "[Original Source](http://stackoverflow.com/questions/2074606/doing-a-plyr-operation-on-every-row-of-a-data-frame-in-r)"
   ]
  },
  {
   "cell_type": "code",
   "execution_count": 4,
   "metadata": {
    "collapsed": false
   },
   "outputs": [],
   "source": [
    "# Load packages\n",
    "library(plyr)"
   ]
  },
  {
   "cell_type": "code",
   "execution_count": 5,
   "metadata": {
    "collapsed": true
   },
   "outputs": [],
   "source": [
    "# create a simulated dataframe\n",
    "x <- rnorm(10)\n",
    "y <- rnorm(10)\n",
    "df <- data.frame(x,y)"
   ]
  },
  {
   "cell_type": "code",
   "execution_count": 6,
   "metadata": {
    "collapsed": false
   },
   "outputs": [
    {
     "data": {
      "text/html": [
       "<table>\n",
       "<thead><tr><th></th><th scope=col>x</th><th scope=col>y</th><th scope=col>max</th></tr></thead>\n",
       "<tbody>\n",
       "\t<tr><th scope=row>1</th><td>-0.4447796</td><td>-0.4545162</td><td>-0.4447796</td></tr>\n",
       "\t<tr><th scope=row>2</th><td>-1.089005</td><td>0.9474557</td><td>0.9474557</td></tr>\n",
       "\t<tr><th scope=row>3</th><td>-0.9650678</td><td>-0.3780145</td><td>-0.3780145</td></tr>\n",
       "\t<tr><th scope=row>4</th><td>0.2445268</td><td>0.5889838</td><td>0.5889838</td></tr>\n",
       "\t<tr><th scope=row>5</th><td>0.1620563</td><td>1.006403</td><td>1.006403</td></tr>\n",
       "\t<tr><th scope=row>6</th><td>0.3807968</td><td>-1.690511</td><td>0.3807968</td></tr>\n",
       "\t<tr><th scope=row>7</th><td>-1.340851</td><td>0.2561332</td><td>0.2561332</td></tr>\n",
       "\t<tr><th scope=row>8</th><td>0.3979997</td><td>0.08528096</td><td>0.3979997</td></tr>\n",
       "\t<tr><th scope=row>9</th><td>-0.02947813</td><td>-1.05318</td><td>-0.02947813</td></tr>\n",
       "\t<tr><th scope=row>10</th><td>0.579247</td><td>0.6229152</td><td>0.6229152</td></tr>\n",
       "</tbody>\n",
       "</table>\n"
      ],
      "text/latex": [
       "\\begin{tabular}{r|lll}\n",
       "  & x & y & max\\\\\n",
       "\\hline\n",
       "\t1 & -0.4447796 & -0.4545162 & -0.4447796\\\\\n",
       "\t2 & -1.089005 & 0.9474557 & 0.9474557\\\\\n",
       "\t3 & -0.9650678 & -0.3780145 & -0.3780145\\\\\n",
       "\t4 & 0.2445268 & 0.5889838 & 0.5889838\\\\\n",
       "\t5 & 0.1620563 & 1.006403 & 1.006403\\\\\n",
       "\t6 & 0.3807968 & -1.690511 & 0.3807968\\\\\n",
       "\t7 & -1.340851 & 0.2561332 & 0.2561332\\\\\n",
       "\t8 & 0.3979997 & 0.08528096 & 0.3979997\\\\\n",
       "\t9 & -0.02947813 & -1.05318 & -0.02947813\\\\\n",
       "\t10 & 0.579247 & 0.6229152 & 0.6229152\\\\\n",
       "\\end{tabular}\n"
      ],
      "text/plain": [
       "             x           y         max\n",
       "1  -0.44477960 -0.45451616 -0.44477960\n",
       "2  -1.08900550  0.94745569  0.94745569\n",
       "3  -0.96506777 -0.37801451 -0.37801451\n",
       "4   0.24452679  0.58898383  0.58898383\n",
       "5   0.16205632  1.00640332  1.00640332\n",
       "6   0.38079679 -1.69051134  0.38079679\n",
       "7  -1.34085070  0.25613318  0.25613318\n",
       "8   0.39799966  0.08528096  0.39799966\n",
       "9  -0.02947813 -1.05317999 -0.02947813\n",
       "10  0.57924698  0.62291518  0.62291518"
      ]
     },
     "execution_count": 6,
     "metadata": {},
     "output_type": "execute_result"
    }
   ],
   "source": [
    "# array to dataframe apply, on df, for each row, apply transform() to create a variable called \"max\" whose values are the maximum value of x or y (whichever is higher).\n",
    "adply(df, 1, transform, max = max(x, y))"
   ]
  }
 ],
 "metadata": {
  "kernelspec": {
   "display_name": "R",
   "language": "",
   "name": "ir"
  },
  "language_info": {
   "codemirror_mode": "r",
   "file_extension": ".r",
   "mimetype": "text/x-r-source",
   "name": "R",
   "pygments_lexer": "r",
   "version": "3.2.3"
  }
 },
 "nbformat": 4,
 "nbformat_minor": 0
}
