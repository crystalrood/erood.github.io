{
 "cells": [
  {
   "cell_type": "code",
   "execution_count": 19,
   "metadata": {
    "collapsed": true
   },
   "outputs": [],
   "source": [
    "from os import listdir"
   ]
  },
  {
   "cell_type": "code",
   "execution_count": 20,
   "metadata": {
    "collapsed": false
   },
   "outputs": [],
   "source": [
    "filenames = []\n",
    "\n",
    "for file in listdir(\".\"):\n",
    "    if file.endswith(\".md\"):\n",
    "        filenames.append(file)"
   ]
  },
  {
   "cell_type": "code",
   "execution_count": 21,
   "metadata": {
    "collapsed": false
   },
   "outputs": [
    {
     "data": {
      "text/plain": [
       "['match_a_symbol.md',\n",
       " 'match_a_unicode_character.md',\n",
       " 'match_a_word.md',\n",
       " 'match_any_character.md',\n",
       " 'match_any_of_a_list_of_symbols.md',\n",
       " 'match_any_of_series_of_characters.md',\n",
       " 'match_any_of_series_of_words.md',\n",
       " 'match_dates.md',\n",
       " 'match_email_addresses.md',\n",
       " 'match_exact_text.md',\n",
       " 'match_integers_of_any_length.md',\n",
       " 'match_text_between_html_tags.md',\n",
       " 'match_times.md',\n",
       " 'match_urls.md',\n",
       " 'match_us_phone_numbers.md',\n",
       " 'match_us_uk_spellings.md',\n",
       " 'match_words_with_certain_ending.md',\n",
       " 'match_zip_codes.md',\n",
       " 'regex_basics.md']"
      ]
     },
     "execution_count": 21,
     "metadata": {},
     "output_type": "execute_result"
    }
   ],
   "source": [
    "filenames"
   ]
  },
  {
   "cell_type": "code",
   "execution_count": 44,
   "metadata": {
    "collapsed": false
   },
   "outputs": [],
   "source": [
    "with open(filenames[0], 'r+') as f:\n",
    "    content = f.read()\n",
    "    header = 'Title: TITLETITLE\\nSlug: SLUGSLUG\\nSummary: TITLETITLE\\nDate: 2016-05-01 12:00\\nCategory: Regex\\nTags: Basics\\nAuthors: Chris Albon\\n'\n",
    "    title = str(content.split('\\n')[1].lstrip('# '))\n",
    "    slug = str(filenames[0]).split('.')[0]\n",
    "    header = header.replace('TITLETITLE', title)\n",
    "    header = header.replace('SLUGSLUG', slug)\n",
    "    \n",
    "    content = content.replace(str(content.split('\\n')[1]), '')\n",
    "    \n",
    "    f.seek(0, 0)\n",
    "    f.write(header + content)"
   ]
  },
  {
   "cell_type": "code",
   "execution_count": null,
   "metadata": {
    "collapsed": true
   },
   "outputs": [],
   "source": []
  }
 ],
 "metadata": {
  "kernelspec": {
   "display_name": "Python 3",
   "language": "python",
   "name": "python3"
  },
  "language_info": {
   "codemirror_mode": {
    "name": "ipython",
    "version": 3
   },
   "file_extension": ".py",
   "mimetype": "text/x-python",
   "name": "python",
   "nbconvert_exporter": "python",
   "pygments_lexer": "ipython3",
   "version": "3.5.1"
  }
 },
 "nbformat": 4,
 "nbformat_minor": 0
}
