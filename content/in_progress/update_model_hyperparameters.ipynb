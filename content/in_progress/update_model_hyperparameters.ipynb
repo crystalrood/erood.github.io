{
 "cells": [
  {
   "cell_type": "code",
   "execution_count": 2,
   "metadata": {
    "collapsed": false
   },
   "outputs": [
    {
     "name": "stdout",
     "output_type": "stream",
     "text": [
      "The best parameters are {'gamma': 9.9999999999999995e-08, 'C': 10000000.0} with a score of 0.97\n"
     ]
    }
   ],
   "source": [
    "import numpy as np\n",
    "from sklearn.svm import SVC\n",
    "from sklearn.preprocessing import StandardScaler\n",
    "from sklearn.datasets import load_iris\n",
    "from sklearn.cross_validation import StratifiedShuffleSplit\n",
    "from sklearn.grid_search import GridSearchCV\n",
    "\n",
    "##############################################################################\n",
    "# Load and prepare data set\n",
    "#\n",
    "# dataset for grid search\n",
    "\n",
    "iris = load_iris()\n",
    "X = iris.data\n",
    "y = iris.target\n",
    "\n",
    "# It is usually a good idea to scale the data for SVM training.\n",
    "# We are cheating a bit in this example in scaling all of the data,\n",
    "# instead of fitting the transformation on the training set and\n",
    "# just applying it on the test set.\n",
    "\n",
    "scaler = StandardScaler()\n",
    "X = scaler.fit_transform(X)\n",
    "\n",
    "##############################################################################\n",
    "# Train classifiers\n",
    "#\n",
    "# For an initial search, a logarithmic grid with basis\n",
    "# 10 is often helpful. Using a basis of 2, a finer\n",
    "# tuning can be achieved but at a much higher cost.\n",
    "\n",
    "C_range = np.logspace(-2, 10, 13)\n",
    "gamma_range = np.logspace(-9, 3, 13)\n",
    "param_grid = dict(gamma=gamma_range, C=C_range)\n",
    "cv = StratifiedShuffleSplit(y, n_iter=5, test_size=0.5, random_state=42)\n",
    "grid = GridSearchCV(SVC(), param_grid=param_grid, cv=cv)\n",
    "grid.fit(X, y)\n",
    "\n",
    "print(\"The best parameters are %s with a score of %0.2f\"\n",
    "      % (grid.best_params_, grid.best_score_))"
   ]
  },
  {
   "cell_type": "code",
   "execution_count": 9,
   "metadata": {
    "collapsed": false
   },
   "outputs": [
    {
     "data": {
      "text/plain": [
       "array([  1.00000000e+00,   1.26185688e+00,   1.59228279e+00,\n",
       "         2.00923300e+00,   2.53536449e+00,   3.19926714e+00,\n",
       "         4.03701726e+00,   5.09413801e+00,   6.42807312e+00,\n",
       "         8.11130831e+00,   1.02353102e+01,   1.29154967e+01,\n",
       "         1.62975083e+01,   2.05651231e+01,   2.59502421e+01,\n",
       "         3.27454916e+01,   4.13201240e+01,   5.21400829e+01,\n",
       "         6.57933225e+01,   8.30217568e+01,   1.04761575e+02,\n",
       "         1.32194115e+02,   1.66810054e+02,   2.10490414e+02,\n",
       "         2.65608778e+02,   3.35160265e+02,   4.22924287e+02,\n",
       "         5.33669923e+02,   6.73415066e+02,   8.49753436e+02,\n",
       "         1.07226722e+03,   1.35304777e+03,   1.70735265e+03,\n",
       "         2.15443469e+03,   2.71858824e+03,   3.43046929e+03,\n",
       "         4.32876128e+03,   5.46227722e+03,   6.89261210e+03,\n",
       "         8.69749003e+03,   1.09749877e+04,   1.38488637e+04,\n",
       "         1.74752840e+04,   2.20513074e+04,   2.78255940e+04,\n",
       "         3.51119173e+04,   4.43062146e+04,   5.59081018e+04,\n",
       "         7.05480231e+04,   8.90215085e+04,   1.12332403e+05,\n",
       "         1.41747416e+05,   1.78864953e+05,   2.25701972e+05,\n",
       "         2.84803587e+05,   3.59381366e+05,   4.53487851e+05,\n",
       "         5.72236766e+05,   7.22080902e+05,   9.11162756e+05,\n",
       "         1.14975700e+06,   1.45082878e+06,   1.83073828e+06,\n",
       "         2.31012970e+06,   2.91505306e+06,   3.67837977e+06,\n",
       "         4.64158883e+06,   5.85702082e+06,   7.39072203e+06,\n",
       "         9.32603347e+06,   1.17681195e+07,   1.48496826e+07,\n",
       "         1.87381742e+07,   2.36448941e+07,   2.98364724e+07,\n",
       "         3.76493581e+07,   4.75081016e+07,   5.99484250e+07,\n",
       "         7.56463328e+07,   9.54548457e+07,   1.20450354e+08,\n",
       "         1.51991108e+08,   1.91791026e+08,   2.42012826e+08,\n",
       "         3.05385551e+08,   3.85352859e+08,   4.86260158e+08,\n",
       "         6.13590727e+08,   7.74263683e+08,   9.77009957e+08,\n",
       "         1.23284674e+09,   1.55567614e+09,   1.96304065e+09,\n",
       "         2.47707636e+09,   3.12571585e+09,   3.94420606e+09,\n",
       "         4.97702356e+09,   6.28029144e+09,   7.92482898e+09,\n",
       "         1.00000000e+10])"
      ]
     },
     "execution_count": 9,
     "metadata": {},
     "output_type": "execute_result"
    }
   ],
   "source": [
    "np.logspace(0, 10, 100, base=10.0)"
   ]
  },
  {
   "cell_type": "code",
   "execution_count": 12,
   "metadata": {
    "collapsed": false
   },
   "outputs": [
    {
     "data": {
      "text/plain": [
       "(nan, nan, nan, nan)"
      ]
     },
     "execution_count": 12,
     "metadata": {},
     "output_type": "execute_result"
    }
   ],
   "source": [
    "def create_datetime_variables(x):\n",
    "    try:\n",
    "        year = dateutil.parser.parse('2016-05-16T17:12:54.000Z').year\n",
    "        month = dateutil.parser.parse('2016-05-16T17:12:54.000Z').month\n",
    "        day = dateutil.parser.parse('2016-05-16T17:12:54.000Z').day\n",
    "        weekday = dateutil.parser.parse('2016-05-16T17:12:54.000Z').strftime(\"%A\")\n",
    "        return year, month, day, weekday\n",
    "    \n",
    "    except:\n",
    "        return np.nan, np.nan, np.nan, np.nan\n",
    "    \n",
    "create_datetime_variables(10)"
   ]
  },
  {
   "cell_type": "code",
   "execution_count": null,
   "metadata": {
    "collapsed": true
   },
   "outputs": [],
   "source": []
  }
 ],
 "metadata": {
  "anaconda-cloud": {},
  "kernelspec": {
   "display_name": "Python [conda root]",
   "language": "python",
   "name": "conda-root-py"
  },
  "language_info": {
   "codemirror_mode": {
    "name": "ipython",
    "version": 3
   },
   "file_extension": ".py",
   "mimetype": "text/x-python",
   "name": "python",
   "nbconvert_exporter": "python",
   "pygments_lexer": "ipython3",
   "version": "3.5.2"
  }
 },
 "nbformat": 4,
 "nbformat_minor": 1
}
