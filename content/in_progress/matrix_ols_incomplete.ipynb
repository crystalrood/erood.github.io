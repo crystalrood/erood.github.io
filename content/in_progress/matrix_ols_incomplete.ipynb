{
 "cells": [
  {
   "cell_type": "markdown",
   "metadata": {},
   "source": [
    "## OLS Regression Example Using Matrix Operations"
   ]
  },
  {
   "cell_type": "markdown",
   "metadata": {},
   "source": [
    "$$ \\begin{vmatrix}\n",
    "State & Per Capita Income & Percent Gov. Employees\\\\ \n",
    "--&--&--\\\\\n",
    "Alabama & 24028 & 19.2\\\\ \n",
    "Florida & 30446 & 14.5\\\\ \n",
    "Georgia & 29442 & 16.4\\\\ \n",
    "Mississippi & 23448 & 21.8\\\\ \n",
    "North Carolina & 29235 & 17.3\\\\ \n",
    "South Carolina & 26132 & 18.2\\\\ \n",
    "Tennessee & 28455 & 15.5\n",
    "\\end{vmatrix} $$"
   ]
  },
  {
   "cell_type": "code",
   "execution_count": 69,
   "metadata": {
    "collapsed": true
   },
   "outputs": [],
   "source": [
    "import numpy as np\n",
    "import pandas as pd\n",
    "import statsmodels.formula.api as smf\n",
    "\n",
    "np.set_printoptions(suppress=True)"
   ]
  },
  {
   "cell_type": "markdown",
   "metadata": {},
   "source": [
    "## Create X"
   ]
  },
  {
   "cell_type": "markdown",
   "metadata": {},
   "source": [
    "$$X=\\begin{bmatrix}\n",
    "1 & 24028\\\\ \n",
    "1 & 30446\\\\ \n",
    "1 & 29442\\\\ \n",
    "1 & 23448\\\\ \n",
    "1 & 28235\\\\ \n",
    "1 & 26132\\\\ \n",
    "1 & 28445\n",
    "\\end{bmatrix}$$"
   ]
  },
  {
   "cell_type": "code",
   "execution_count": 71,
   "metadata": {
    "collapsed": false
   },
   "outputs": [],
   "source": [
    "X = np.matrix([[1, 24028], \n",
    "               [1, 30446],\n",
    "               [1, 29442],\n",
    "               [1, 23448],\n",
    "               [1, 28235],\n",
    "               [1, 26132],\n",
    "               [1, 28445]])"
   ]
  },
  {
   "cell_type": "markdown",
   "metadata": {},
   "source": [
    "## Create Y"
   ]
  },
  {
   "cell_type": "markdown",
   "metadata": {},
   "source": [
    "$$ \\boldsymbol{y} = \\begin{bmatrix}\n",
    "19.2\\\\ \n",
    "14.5\\\\ \n",
    "16.4\\\\ \n",
    "21.8\\\\ \n",
    "17.8\\\\ \n",
    "18.2\\\\ \n",
    "15.5\n",
    "\\end{bmatrix}$$"
   ]
  },
  {
   "cell_type": "code",
   "execution_count": 72,
   "metadata": {
    "collapsed": true
   },
   "outputs": [],
   "source": [
    "y = np.matrix([[19.2], \n",
    "               [14.5],\n",
    "               [16.4],\n",
    "               [21.8],\n",
    "               [17.3],\n",
    "               [18.2],\n",
    "               [15.5]])"
   ]
  },
  {
   "cell_type": "markdown",
   "metadata": {},
   "source": [
    "## Create $X^{T}X$"
   ]
  },
  {
   "cell_type": "markdown",
   "metadata": {},
   "source": [
    "$$X^{T}X = \\begin{bmatrix}\n",
    "7 & 190356\\\\ \n",
    "190356 & 5218840922\n",
    "\\end{bmatrix}$$"
   ]
  },
  {
   "cell_type": "code",
   "execution_count": 73,
   "metadata": {
    "collapsed": false
   },
   "outputs": [
    {
     "data": {
      "text/plain": [
       "matrix([[         7,     190176],\n",
       "        [    190176, 5210158442]])"
      ]
     },
     "execution_count": 73,
     "metadata": {},
     "output_type": "execute_result"
    }
   ],
   "source": [
    "X.T * X"
   ]
  },
  {
   "cell_type": "markdown",
   "metadata": {},
   "source": [
    "## Create $X^{T}\\boldsymbol{y}$"
   ]
  },
  {
   "cell_type": "markdown",
   "metadata": {},
   "source": [
    "$$X^{T}\\boldsymbol{y}=\\begin{bmatrix}\n",
    "1 & 24028\\\\ \n",
    "1 & 30446\\\\ \n",
    "1 & 29442\\\\ \n",
    "1 & 23448\\\\ \n",
    "1 & 28235\\\\ \n",
    "1 & 26132\\\\ \n",
    "1 & 28445\n",
    "\\end{bmatrix}\\begin{bmatrix}\n",
    "19.2\\\\ \n",
    "14.5\\\\ \n",
    "16.4\\\\ \n",
    "21.8\\\\ \n",
    "17.3\\\\ \n",
    "18.2\\\\\n",
    "15.5 \n",
    "\\end{bmatrix} = \\begin{bmatrix}\n",
    "122.9\\\\ \n",
    "3301785.2\n",
    "\\end{bmatrix} $$"
   ]
  },
  {
   "cell_type": "code",
   "execution_count": 74,
   "metadata": {
    "collapsed": false
   },
   "outputs": [
    {
     "data": {
      "text/plain": [
       "matrix([[     122.9],\n",
       "        [ 3301785.2]])"
      ]
     },
     "execution_count": 74,
     "metadata": {},
     "output_type": "execute_result"
    }
   ],
   "source": [
    "(X.T * y)"
   ]
  },
  {
   "cell_type": "markdown",
   "metadata": {},
   "source": [
    "## Create $(X^{T}X)^{-1}$ "
   ]
  },
  {
   "cell_type": "markdown",
   "metadata": {},
   "source": [
    "$$(X^{T}X)^{-1} = \\begin{bmatrix}\n",
    "17.603 & -0.001\\\\ \n",
    "-0.001 & 0.000\n",
    "\\end{bmatrix}$$"
   ]
  },
  {
   "cell_type": "code",
   "execution_count": 75,
   "metadata": {
    "collapsed": false
   },
   "outputs": [
    {
     "data": {
      "text/plain": [
       "matrix([[ 17.12751702,  -0.00062517],\n",
       "        [ -0.00062517,   0.00000002]])"
      ]
     },
     "execution_count": 75,
     "metadata": {},
     "output_type": "execute_result"
    }
   ],
   "source": [
    "np.linalg.inv(X.T * X)"
   ]
  },
  {
   "cell_type": "markdown",
   "metadata": {
    "collapsed": false
   },
   "source": [
    "## Create $(X^{T}X)^{-1}X^{T}\\boldsymbol{y}$"
   ]
  },
  {
   "cell_type": "markdown",
   "metadata": {},
   "source": [
    "$$\\boldsymbol{\\hat{\\beta} } = (X^{T}X)^{-1}X^{T}\\boldsymbol{y}$$"
   ]
  },
  {
   "cell_type": "markdown",
   "metadata": {},
   "source": [
    "$$ \\boldsymbol{\\hat{\\beta} } = \\begin{bmatrix}\n",
    "\\beta \\\\ \n",
    "\\alpha \n",
    "\\end{bmatrix} = \\begin{bmatrix}\n",
    "17.603 & -0.001\\\\ \n",
    " -0.001 & 0.000\n",
    "\\end{bmatrix} = \\begin{bmatrix}\n",
    "122.9\\\\ \n",
    "3301785.2\n",
    "\\end{bmatrix}=\\begin{bmatrix}\n",
    "40.790\\\\ \n",
    "-0.001\n",
    "\\end{bmatrix} $$"
   ]
  },
  {
   "cell_type": "code",
   "execution_count": 76,
   "metadata": {
    "collapsed": false,
    "scrolled": true
   },
   "outputs": [
    {
     "data": {
      "text/plain": [
       "matrix([[ 40.78976691],\n",
       "        [ -0.00085515]])"
      ]
     },
     "execution_count": 76,
     "metadata": {},
     "output_type": "execute_result"
    }
   ],
   "source": [
    "betas = np.linalg.inv(X.T * X) * (X.T * y)\n",
    "betas"
   ]
  },
  {
   "cell_type": "code",
   "execution_count": 154,
   "metadata": {
    "collapsed": false
   },
   "outputs": [
    {
     "data": {
      "text/plain": [
       "Intercept    40.789767\n",
       "X1           -0.000855\n",
       "dtype: float64"
      ]
     },
     "execution_count": 154,
     "metadata": {},
     "output_type": "execute_result"
    }
   ],
   "source": [
    "X1 = [24028,30446,29442,23448,28235,26132,28445] \n",
    "Y1 = [19.2,14.5,16.4,21.8,17.3,18.2,15.5]\n",
    "\n",
    "data = pd.DataFrame()\n",
    "\n",
    "data['X1'] = X1\n",
    "data['Y1'] = Y1\n",
    "\n",
    "est = smf.ols('Y1 ~ X1', data).fit()\n",
    "est.params"
   ]
  }
 ],
 "metadata": {
  "kernelspec": {
   "display_name": "Python [default]",
   "language": "python",
   "name": "python3"
  },
  "language_info": {
   "codemirror_mode": {
    "name": "ipython",
    "version": 3
   },
   "file_extension": ".py",
   "mimetype": "text/x-python",
   "name": "python",
   "nbconvert_exporter": "python",
   "pygments_lexer": "ipython3",
   "version": "3.5.2"
  }
 },
 "nbformat": 4,
 "nbformat_minor": 0
}
