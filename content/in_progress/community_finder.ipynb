{
 "cells": [
  {
   "cell_type": "code",
   "execution_count": 1,
   "metadata": {
    "collapsed": false
   },
   "outputs": [],
   "source": [
    "import tweepy\n",
    "from collections import Counter\n",
    "from collections import defaultdict\n",
    "import random\n",
    "import pandas as pd\n",
    "import time"
   ]
  },
  {
   "cell_type": "code",
   "execution_count": 2,
   "metadata": {
    "collapsed": false
   },
   "outputs": [
    {
     "data": {
      "text/plain": [
       "950"
      ]
     },
     "execution_count": 2,
     "metadata": {},
     "output_type": "execute_result"
    }
   ],
   "source": [
    "19 * 5 *10\n"
   ]
  },
  {
   "cell_type": "code",
   "execution_count": 2,
   "metadata": {
    "collapsed": true
   },
   "outputs": [],
   "source": [
    "consumer_key = 'MivVnKovNAIOFxYgWAWnt2UW9'\n",
    "consumer_secret = 'hIOLhbIaJ083XgC4kZIYDow0VBS3u5oJ28lK8NNtZcpxGWs3qp'\n",
    "access_token = '11518572-sHaaBIRgwtITXLOmbXoo3PxeIrxJRgAb0kCF2MJrk'\n",
    "access_secret = 'Qo0f6A1xermF94mZUKExd1x7xTw2vruEVtj7AOGJ2Y49a'\n",
    " \n",
    "auth = tweepy.OAuthHandler(consumer_key, consumer_secret)\n",
    "auth.set_access_token(access_token, access_secret)\n",
    " \n",
    "api = tweepy.API(auth, wait_on_rate_limit=True, wait_on_rate_limit_notify=True, retry_count=3, retry_delay=5, retry_errors=set([401, 404, 500, 503]))"
   ]
  },
  {
   "cell_type": "code",
   "execution_count": 3,
   "metadata": {
    "collapsed": false
   },
   "outputs": [],
   "source": [
    "def find_hashtags(hashtag):\n",
    "\n",
    "    hashtags = Counter()\n",
    "\n",
    "    try:\n",
    "        for tweet in tweepy.Cursor(api.search, q='#'+hashtag, count=200).items():\n",
    "            # for each hashtag in tweet\n",
    "            for hashtag_in_tweet in [tag['text'] for tag in tweet.entities['hashtags']]:\n",
    "                if not hashtag_in_tweet in hashtags:\n",
    "                    hashtags[hashtag_in_tweet] = 1\n",
    "                else:\n",
    "                    hashtags[hashtag_in_tweet] += 1\n",
    "    except tweepy.error.TweepError:\n",
    "        pass\n",
    "        time.sleep(5) # provide a time before resuming the code when an error arises\n",
    "                                \n",
    "    return hashtags"
   ]
  },
  {
   "cell_type": "code",
   "execution_count": 4,
   "metadata": {
    "collapsed": false
   },
   "outputs": [],
   "source": [
    "def clusters(hashtag, count=1):\n",
    "    \n",
    "    def find_hashtag_clusters(hashtag, count=1):\n",
    "\n",
    "        if count <= 10:\n",
    "            ht = find_hashtags(hashtag)\n",
    "\n",
    "            new.update(ht)\n",
    "            current.update(ht)\n",
    "            return find_hashtag_clusters(random.choice(new.most_common(30))[0], count+1)\n",
    "        else:\n",
    "            ht = find_hashtags(hashtag)\n",
    "\n",
    "            new.update(ht)\n",
    "\n",
    "            if [i[0] for i in current.most_common(30)] == [i[0] for i in new.most_common(30)]:\n",
    "                return new\n",
    "            else:\n",
    "                current.update(ht)\n",
    "                return find_hashtag_clusters(random.choice(new.most_common(30))[0], count+1)\n",
    "\n",
    "    current = Counter()\n",
    "    new = Counter()\n",
    "    \n",
    "    find_hashtag_clusters(hashtag, count=1)\n",
    "            \n",
    "    return new"
   ]
  },
  {
   "cell_type": "code",
   "execution_count": 5,
   "metadata": {
    "collapsed": true
   },
   "outputs": [],
   "source": [
    "def get_profile(user_profile):\n",
    "\n",
    "    profile = {}\n",
    "\n",
    "    profile['user_bg_image'] = user_profile.profile_background_image_url\n",
    "    profile['user_id'] = user_profile.id_str\n",
    "    profile['user_profile_image'] = user_profile.profile_image_url\n",
    "    profile['user_created_date'] = user_profile.created_at\n",
    "    profile['user_followers_count'] = user_profile.followers_count\n",
    "    profile['user_geo_enabled'] = user_profile.geo_enabled\n",
    "    profile['user_tweet_count'] = user_profile.statuses_count\n",
    "    profile['user_location'] = user_profile.location\n",
    "    profile['user_verified'] = user_profile.verified\n",
    "    profile['user_time_zone'] = user_profile.time_zone\n",
    "    profile['user_name'] = user_profile.name\n",
    "    profile['user_url'] = user_profile.url\n",
    "    profile['user_screen_name'] = user_profile.screen_name\n",
    "    profile['user_language'] = user_profile.lang\n",
    "    profile['user_friends_count'] = user_profile.friends_count\n",
    "    profile['user_description'] = user_profile.description\n",
    "    profile['user_listed_count'] = user_profile.listed_count\n",
    "    profile['userID'] = user_profile.id\n",
    "    \n",
    "    return profile"
   ]
  },
  {
   "cell_type": "code",
   "execution_count": 6,
   "metadata": {
    "collapsed": true
   },
   "outputs": [],
   "source": [
    "def get_tweet_author_profiles(tweet_id):\n",
    "    \n",
    "    # Get the user IDs for the original author and first 100 retweeters\n",
    "    profile_ids = [api.get_status(tweet_id).user.id]   \n",
    "    profile_ids.extend([x.user.id for x in api.retweets(tweet_id)])\n",
    "    \n",
    "    data = defaultdict()\n",
    "    \n",
    "    # Get their profiles and the profiles of their followers\n",
    "    for userid in profile_ids:\n",
    "        \n",
    "        profile = get_profile(api.get_user(userid))\n",
    "        \n",
    "        data[profile['user_screen_name']] = profile\n",
    "    # Return list of profiles\n",
    "    return data"
   ]
  },
  {
   "cell_type": "code",
   "execution_count": null,
   "metadata": {
    "collapsed": true
   },
   "outputs": [],
   "source": [
    "def find_profiles_from_hashtag_clusters(hashtag):\n",
    "    \n",
    "    targets = defaultdict()\n",
    "    \n",
    "    hashtags = [i[0] for i in clusters(hashtag).most_common(30)]\n",
    "    try:\n",
    "        for tag in hashtags:\n",
    "            time.sleep(5) # provide a time before resuming the code when an error arises\n",
    "            print(len(targets))\n",
    "            \n",
    "                time.sleep(5) # provide a time before resuming the code when an error arises\n",
    "                targets.update(get_tweet_author_profiles(tweet.id))\n",
    "                print(len(targets))\n",
    "\n",
    "    except tweepy.error.TweepError:\n",
    "            passfor tweet in tweepy.Cursor(api.search, q='#'+tag, count=200).items():\n",
    "            \n",
    "    return targets"
   ]
  },
  {
   "cell_type": "code",
   "execution_count": null,
   "metadata": {
    "collapsed": false
   },
   "outputs": [
    {
     "name": "stdout",
     "output_type": "stream",
     "text": [
      "Rate limit reached. Sleeping for: 507\n"
     ]
    }
   ],
   "source": [
    "data = find_profiles_from_hashtag_clusters('whitegenocide')"
   ]
  },
  {
   "cell_type": "code",
   "execution_count": null,
   "metadata": {
    "collapsed": false
   },
   "outputs": [],
   "source": [
    "len(df)"
   ]
  },
  {
   "cell_type": "code",
   "execution_count": null,
   "metadata": {
    "collapsed": true
   },
   "outputs": [],
   "source": [
    "df = pd.DataFrame.from_dict(data, orient='index')\n",
    "df.to_csv('data.csv')"
   ]
  }
 ],
 "metadata": {
  "anaconda-cloud": {},
  "kernelspec": {
   "display_name": "Python [default]",
   "language": "python",
   "name": "python3"
  },
  "language_info": {
   "codemirror_mode": {
    "name": "ipython",
    "version": 3
   },
   "file_extension": ".py",
   "mimetype": "text/x-python",
   "name": "python",
   "nbconvert_exporter": "python",
   "pygments_lexer": "ipython3",
   "version": "3.5.2"
  }
 },
 "nbformat": 4,
 "nbformat_minor": 1
}
