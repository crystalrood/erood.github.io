{
 "cells": [
  {
   "cell_type": "code",
   "execution_count": 1,
   "metadata": {
    "collapsed": false
   },
   "outputs": [],
   "source": [
    "import pandas as pd\n",
    "import tweepy\n",
    "from collections import defaultdict\n",
    "import praw\n",
    "import requests\n",
    "from bs4 import BeautifulSoup"
   ]
  },
  {
   "cell_type": "code",
   "execution_count": 2,
   "metadata": {
    "collapsed": true
   },
   "outputs": [],
   "source": [
    "import warnings\n",
    "warnings.filterwarnings('ignore')"
   ]
  },
  {
   "cell_type": "code",
   "execution_count": 3,
   "metadata": {
    "collapsed": false
   },
   "outputs": [],
   "source": [
    "consumer_key = 'MivVnKovNAIOFxYgWAWnt2UW9'\n",
    "consumer_secret = 'hIOLhbIaJ083XgC4kZIYDow0VBS3u5oJ28lK8NNtZcpxGWs3qp'\n",
    "access_token = '11518572-sHaaBIRgwtITXLOmbXoo3PxeIrxJRgAb0kCF2MJrk'\n",
    "access_secret = 'Qo0f6A1xermF94mZUKExd1x7xTw2vruEVtj7AOGJ2Y49a'\n",
    " \n",
    "auth = tweepy.OAuthHandler(consumer_key, consumer_secret)\n",
    "auth.set_access_token(access_token, access_secret)\n",
    " \n",
    "api = tweepy.API(auth, wait_on_rate_limit=True, wait_on_rate_limit_notify=True, retry_count=3, retry_delay=5, retry_errors=set([401, 404, 500, 503]))"
   ]
  },
  {
   "cell_type": "code",
   "execution_count": 4,
   "metadata": {
    "collapsed": false
   },
   "outputs": [],
   "source": [
    "def get_profile(user_profile):\n",
    "\n",
    "    profile = {}\n",
    "\n",
    "    profile['user_bg_image'] = user_profile.profile_background_image_url\n",
    "    profile['user_id'] = user_profile.id_str\n",
    "    profile['user_profile_image'] = user_profile.profile_image_url\n",
    "    profile['user_created_date'] = user_profile.created_at\n",
    "    profile['user_followers_count'] = user_profile.followers_count\n",
    "    profile['user_geo_enabled'] = user_profile.geo_enabled\n",
    "    profile['user_tweet_count'] = user_profile.statuses_count\n",
    "    profile['user_location'] = user_profile.location\n",
    "    profile['user_verified'] = user_profile.verified\n",
    "    profile['user_time_zone'] = user_profile.time_zone\n",
    "    profile['user_name'] = user_profile.name\n",
    "    profile['user_url'] = user_profile.url\n",
    "    profile['user_screen_name'] = user_profile.screen_name\n",
    "    profile['user_language'] = user_profile.lang\n",
    "    profile['user_friends_count'] = user_profile.friends_count\n",
    "    profile['user_description'] = user_profile.description\n",
    "    profile['user_listed_count'] = user_profile.listed_count\n",
    "    profile['userID'] = user_profile.id\n",
    "    \n",
    "    return profile"
   ]
  },
  {
   "cell_type": "code",
   "execution_count": 5,
   "metadata": {
    "collapsed": true
   },
   "outputs": [],
   "source": [
    "def get_user_profile(user_id):\n",
    "        \n",
    "    return get_profile(api.get_user(user_id))"
   ]
  },
  {
   "cell_type": "code",
   "execution_count": 6,
   "metadata": {
    "collapsed": false
   },
   "outputs": [],
   "source": [
    "def get_follower_profiles(user_id):\n",
    "    \n",
    "    follower_data = defaultdict()\n",
    "    \n",
    "    for follower in tweepy.Cursor(api.followers, id=user_id, count=200).items(1000):\n",
    "        profile = get_profile(follower)\n",
    "        follower_data[profile['user_screen_name']] = profile\n",
    "                \n",
    "    return follower_data"
   ]
  },
  {
   "cell_type": "code",
   "execution_count": null,
   "metadata": {
    "collapsed": false
   },
   "outputs": [],
   "source": [
    "def get_tweeter_and_retweeter_profiles(tweet_id):\n",
    "    \n",
    "    # Get the user IDs for the original author and first 100 retweeters\n",
    "    profile_ids = [api.get_status(tweet_id).user.id]   \n",
    "    profile_ids.extend([x.user.id for x in api.retweets(tweet_id)])\n",
    "    \n",
    "    data = defaultdict()\n",
    "    \n",
    "    # Get their profiles and the profiles of their followers\n",
    "    for userid in profile_ids:\n",
    "        print('Total profiles:', len(data))\n",
    "        \n",
    "        profile = get_user_profile(userid)\n",
    "        \n",
    "        data[profile['user_screen_name']] = profile\n",
    "                \n",
    "        data.update(get_follower_profiles(userid))\n",
    "    \n",
    "    # Return list of profiles\n",
    "    return data"
   ]
  },
  {
   "cell_type": "code",
   "execution_count": null,
   "metadata": {
    "collapsed": false
   },
   "outputs": [
    {
     "name": "stdout",
     "output_type": "stream",
     "text": [
      "Total profiles: 0\n",
      "Total profiles: 118\n",
      "Total profiles: 512\n",
      "Total profiles: 1466\n",
      "Total profiles: 1510\n",
      "Total profiles: 1854\n",
      "Total profiles: 1882\n",
      "Total profiles: 1920\n",
      "Total profiles: 1973\n",
      "Total profiles: 1981\n",
      "Rate limit reached. Sleeping for: 868\n"
     ]
    }
   ],
   "source": [
    "data = get_tweeter_and_retweeter_profiles(tweet_id=778956650602455040)"
   ]
  },
  {
   "cell_type": "markdown",
   "metadata": {},
   "source": [
    "## Reddit"
   ]
  },
  {
   "cell_type": "code",
   "execution_count": null,
   "metadata": {
    "collapsed": false,
    "scrolled": true
   },
   "outputs": [],
   "source": [
    "for key in data.keys():\n",
    "    \n",
    "    user_agent = \"Searching for Twitter user names.\"\n",
    "    r = praw.Reddit(user_agent=user_agent)\n",
    "    \n",
    "    user = r.get_redditor(key)\n",
    "\n",
    "    try:\n",
    "        print(user.created)\n",
    "    except:\n",
    "        continue"
   ]
  },
  {
   "cell_type": "markdown",
   "metadata": {},
   "source": [
    "## Disqus"
   ]
  },
  {
   "cell_type": "code",
   "execution_count": null,
   "metadata": {
    "collapsed": false
   },
   "outputs": [],
   "source": [
    "for key in data.keys():   \n",
    "    r = requests.get(\"https://disqus.com/by/\"+key+\"/\")\n",
    "    soup = BeautifulSoup(r.text, \"lxml\")\n",
    "    if '404' in soup.title.string:\n",
    "        continue\n",
    "    else:\n",
    "        print(key, 'found on Disqus')"
   ]
  }
 ],
 "metadata": {
  "anaconda-cloud": {},
  "kernelspec": {
   "display_name": "Python [conda root]",
   "language": "python",
   "name": "conda-root-py"
  },
  "language_info": {
   "codemirror_mode": {
    "name": "ipython",
    "version": 3
   },
   "file_extension": ".py",
   "mimetype": "text/x-python",
   "name": "python",
   "nbconvert_exporter": "python",
   "pygments_lexer": "ipython3",
   "version": "3.5.2"
  }
 },
 "nbformat": 4,
 "nbformat_minor": 1
}
