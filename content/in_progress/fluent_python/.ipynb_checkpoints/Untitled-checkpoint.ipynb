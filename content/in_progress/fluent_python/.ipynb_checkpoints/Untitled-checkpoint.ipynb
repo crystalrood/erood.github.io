{
 "cells": [
  {
   "cell_type": "code",
   "execution_count": 30,
   "metadata": {
    "collapsed": false
   },
   "outputs": [
    {
     "name": "stdout",
     "output_type": "stream",
     "text": [
      "('under-promise', 'under-deliver') 0\n",
      "('under-promise', 'deliver') 1\n",
      "('under-promise', 'over-deliver') 2\n",
      "('true-promise', 'under-deliver') -1\n",
      "('true-promise', 'deliver') 0\n",
      "('true-promise', 'over-deliver') 1\n",
      "('over-promise', 'under-deliver') -2\n",
      "('over-promise', 'deliver') -1\n",
      "('over-promise', 'over-deliver') 0\n"
     ]
    }
   ],
   "source": [
    "expectations = [\"under-promise\", \"true-promise\", \"over-promise\"]\n",
    "expectations_scores = [-1,0,1]\n",
    "outcomes = [\"under-deliver\", \"deliver\", \"over-deliver\"]\n",
    "outcomes_scores = [-1,0,1]\n",
    "\n",
    "scores = [(outcome - expectation) for expectation in expectations_scores for outcome in outcomes_scores ]\n",
    "project_outcome = [(expectation, outcome) for expectation in expectations for outcome in outcomes ]\n",
    "\n",
    "for i, score in enumerate(scores):\n",
    "    print(project_outcome[i], scores[i])"
   ]
  },
  {
   "cell_type": "code",
   "execution_count": null,
   "metadata": {
    "collapsed": true
   },
   "outputs": [],
   "source": []
  }
 ],
 "metadata": {
  "anaconda-cloud": {},
  "kernelspec": {
   "display_name": "Python [default]",
   "language": "python",
   "name": "python3"
  },
  "language_info": {
   "codemirror_mode": {
    "name": "ipython",
    "version": 3
   },
   "file_extension": ".py",
   "mimetype": "text/x-python",
   "name": "python",
   "nbconvert_exporter": "python",
   "pygments_lexer": "ipython3",
   "version": "3.5.2"
  }
 },
 "nbformat": 4,
 "nbformat_minor": 1
}
