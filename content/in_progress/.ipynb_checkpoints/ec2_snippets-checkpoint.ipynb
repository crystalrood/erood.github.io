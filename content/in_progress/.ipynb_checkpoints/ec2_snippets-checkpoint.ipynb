{
 "cells": [
  {
   "cell_type": "raw",
   "metadata": {},
   "source": [
    "# CRON JOB EXAMPLE THAT WORKS\n",
    "\n",
    "# Every two hours, go to /home/ubuntu/hayesbrownbot and run /home/ubuntu/anaconda3/bin/python ./run.py and log the output to /var/log/myjob.log\n",
    "0 */2 * * * cd /home/ubuntu/hayesbrownbot; /home/ubuntu/anaconda3/bin/python ./run.py > /var/log/myjob.log 2&>1"
   ]
  }
 ],
 "metadata": {
  "anaconda-cloud": {},
  "kernelspec": {
   "display_name": "Python [conda root]",
   "language": "python",
   "name": "conda-root-py"
  },
  "language_info": {
   "codemirror_mode": {
    "name": "ipython",
    "version": 3
   },
   "file_extension": ".py",
   "mimetype": "text/x-python",
   "name": "python",
   "nbconvert_exporter": "python",
   "pygments_lexer": "ipython3",
   "version": "3.5.2"
  }
 },
 "nbformat": 4,
 "nbformat_minor": 1
}
