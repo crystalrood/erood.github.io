{
 "cells": [
  {
   "cell_type": "code",
   "execution_count": 1,
   "metadata": {
    "collapsed": true
   },
   "outputs": [],
   "source": [
    "import tweepy\n",
    "from collections import defaultdict"
   ]
  },
  {
   "cell_type": "code",
   "execution_count": 2,
   "metadata": {
    "collapsed": false
   },
   "outputs": [],
   "source": [
    "consumer_key = 'FJrny6f1CV5XvHhxXsMl23EuQ'\n",
    "consumer_secret = 'QtuUYRn5cK1cu2fz83jVabFoqPmpw8Xri07zIXiMfXifX7ThqW'\n",
    "access_token = '11518572-OldDBKAAepYnGrEoGUun53eB8RilkEMN8IizV9ccp'\n",
    "access_secret = 'ql3dxDWM6NXNJfKjjEBidur9owRhk5ihbrfXEkyMX771m'\n",
    " \n",
    "auth = tweepy.OAuthHandler(consumer_key, consumer_secret)\n",
    "auth.set_access_token(access_token, access_secret)\n",
    " \n",
    "api = tweepy.API(auth, wait_on_rate_limit=True, wait_on_rate_limit_notify=True, retry_count=3, retry_delay=5, retry_errors=set([401, 404, 500, 503]))"
   ]
  },
  {
   "cell_type": "code",
   "execution_count": 3,
   "metadata": {
    "collapsed": true
   },
   "outputs": [],
   "source": [
    "accounts = ['Barclays', 'BarclaysUK', 'barclayspectrum', 'BarCorp_News', 'barclayswealth', 'BarclaysAfrica', \n",
    "            'Barclays_cship', 'barclaysgrads', 'BarclaysStock', 'BarclaysBizChat', 'Barclays_Kenya',\n",
    "            'BarclaysAccess', 'BarclaysIntBank', 'BarclaysJobsUK']"
   ]
  },
  {
   "cell_type": "code",
   "execution_count": 4,
   "metadata": {
    "collapsed": true
   },
   "outputs": [],
   "source": [
    "def get_profile(user_profile):\n",
    "\n",
    "    profile = {}\n",
    "\n",
    "    profile['user_bg_image'] = user_profile.profile_background_image_url\n",
    "    profile['user_id'] = user_profile.id_str\n",
    "    profile['user_profile_image'] = user_profile.profile_image_url\n",
    "    profile['user_created_date'] = user_profile.created_at\n",
    "    profile['user_followers_count'] = user_profile.followers_count\n",
    "    profile['user_geo_enabled'] = user_profile.geo_enabled\n",
    "    profile['user_tweet_count'] = user_profile.statuses_count\n",
    "    profile['user_location'] = user_profile.location\n",
    "    profile['user_verified'] = user_profile.verified\n",
    "    profile['user_time_zone'] = user_profile.time_zone\n",
    "    profile['user_name'] = user_profile.name\n",
    "    profile['user_url'] = user_profile.url\n",
    "    profile['user_screen_name'] = user_profile.screen_name\n",
    "    profile['user_language'] = user_profile.lang\n",
    "    profile['user_friends_count'] = user_profile.friends_count\n",
    "    profile['user_description'] = user_profile.description\n",
    "    profile['user_listed_count'] = user_profile.listed_count\n",
    "    profile['userID'] = user_profile.id\n",
    "    \n",
    "    return profile"
   ]
  },
  {
   "cell_type": "code",
   "execution_count": 5,
   "metadata": {
    "collapsed": true
   },
   "outputs": [],
   "source": [
    "def get_followers(user_name, match_list):\n",
    "    data = defaultdict()\n",
    "\n",
    "    for follower in tweepy.Cursor(api.followers, screen_name=user_name, count=200).items():\n",
    "        if any('@'+word in follower.description for word in match_list):\n",
    "            profile = get_profile(follower)\n",
    "            data[profile['user_screen_name']] = profile\n",
    "            print(len(data))\n",
    "            \n",
    "    # Return list of profiles\n",
    "    return data"
   ]
  },
  {
   "cell_type": "code",
   "execution_count": 6,
   "metadata": {
    "collapsed": false
   },
   "outputs": [],
   "source": [
    "def get_friends(user_name, match_list):\n",
    "\n",
    "    data = defaultdict()\n",
    "\n",
    "    def get_friend_ids(user_name):\n",
    "        friend_ids = []\n",
    "\n",
    "        for _id in tweepy.Cursor(api.friends_ids, screen_name=user_name).items():\n",
    "            friend_ids.append(_id)\n",
    "\n",
    "        # Return list of profiles\n",
    "        return friend_ids\n",
    "    \n",
    "    def get_user_profile(user_id, match_list):\n",
    "\n",
    "        user = defaultdict()\n",
    "\n",
    "        profile = get_profile(api.get_user(user_id=user_id))\n",
    "\n",
    "        if any('@'+word in profile['user_description'] for word in match_list):\n",
    "            data[profile['user_screen_name']] = profile\n",
    "\n",
    "        return user\n",
    "        \n",
    "    for friend_id in get_friend_ids(user_name):\n",
    "        data.update(get_user_profile(friend_id, match_list))\n",
    "    \n",
    "    return data"
   ]
  },
  {
   "cell_type": "code",
   "execution_count": null,
   "metadata": {
    "collapsed": true
   },
   "outputs": [],
   "source": [
    "def get_relationships(user_name, match_list):\n",
    "    \n",
    "    data = defaultdict()\n",
    "    \n",
    "    data.update(get_followers(user_name, match_list))\n",
    "    data.update(get_friends(user_name, match_list))\n",
    "    \n",
    "    return data"
   ]
  },
  {
   "cell_type": "code",
   "execution_count": null,
   "metadata": {
    "collapsed": false
   },
   "outputs": [
    {
     "name": "stdout",
     "output_type": "stream",
     "text": [
      "Rate limit reached. Sleeping for: 727\n",
      "Rate limit reached. Sleeping for: 844\n",
      "Rate limit reached. Sleeping for: 847\n",
      "Rate limit reached. Sleeping for: 844\n",
      "Rate limit reached. Sleeping for: 847\n",
      "Rate limit reached. Sleeping for: 848\n",
      "Rate limit reached. Sleeping for: 845\n",
      "Rate limit reached. Sleeping for: 841\n",
      "Rate limit reached. Sleeping for: 793\n",
      "Rate limit reached. Sleeping for: 726\n",
      "Rate limit reached. Sleeping for: 849\n",
      "Rate limit reached. Sleeping for: 846\n",
      "Rate limit reached. Sleeping for: 849\n",
      "Rate limit reached. Sleeping for: 848\n",
      "Rate limit reached. Sleeping for: 844\n",
      "Rate limit reached. Sleeping for: 848\n"
     ]
    }
   ],
   "source": [
    "data = [get_relationships(x, accounts) for x in accounts]"
   ]
  },
  {
   "cell_type": "code",
   "execution_count": null,
   "metadata": {
    "collapsed": false
   },
   "outputs": [],
   "source": [
    "len(data)"
   ]
  },
  {
   "cell_type": "code",
   "execution_count": null,
   "metadata": {
    "collapsed": true
   },
   "outputs": [],
   "source": []
  }
 ],
 "metadata": {
  "anaconda-cloud": {},
  "kernelspec": {
   "display_name": "Python [default]",
   "language": "python",
   "name": "python3"
  },
  "language_info": {
   "codemirror_mode": {
    "name": "ipython",
    "version": 3
   },
   "file_extension": ".py",
   "mimetype": "text/x-python",
   "name": "python",
   "nbconvert_exporter": "python",
   "pygments_lexer": "ipython3",
   "version": "3.5.2"
  }
 },
 "nbformat": 4,
 "nbformat_minor": 1
}
