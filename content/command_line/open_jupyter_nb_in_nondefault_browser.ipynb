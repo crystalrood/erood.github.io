{
 "cells": [
  {
   "cell_type": "markdown",
   "metadata": {},
   "source": [
    "Title: Load Jupyter Notebook In Non-Default Browser  \n",
    "Date: 2016-05-01 12:00  \n",
    "Category: Command Line  \n",
    "Tags:  \n",
    "Slug: open_ipython_nb_in_nondefault_browser  \n",
    "Authors: Chris Albon  \n",
    "Summary: Load Jupyter Notebook In Non-Default Browser    \n",
    "\n",
    "By default Jupyter Notebooks loads in your default browser. The following bash script opens Jupyter Notebook in a specific browser (in this example, Chrome).\n",
    "\n",
    "_Note: I have commented out all the commands so it doesn't run while in Jupyter_"
   ]
  },
  {
   "cell_type": "code",
   "execution_count": null,
   "metadata": {
    "collapsed": false
   },
   "outputs": [],
   "source": [
    "# %%bash\n",
    "\n",
    "# Set the bash hashbang\n",
    "# #!/bin/bash\n",
    "\n",
    "# Open IPython Notebook using Chrome\n",
    "# BROWSER=/Applications/Google\\ Chrome.app/Contents/MacOS/Google\\ Chrome jupyter notebook"
   ]
  }
 ],
 "metadata": {
  "kernelspec": {
   "display_name": "Python 3",
   "language": "python",
   "name": "python3"
  },
  "language_info": {
   "codemirror_mode": {
    "name": "ipython",
    "version": 3
   },
   "file_extension": ".py",
   "mimetype": "text/x-python",
   "name": "python",
   "nbconvert_exporter": "python",
   "pygments_lexer": "ipython3",
   "version": "3.5.1"
  }
 },
 "nbformat": 4,
 "nbformat_minor": 0
}
