{
 "cells": [
  {
   "cell_type": "markdown",
   "metadata": {},
   "source": [
    "Title: Convert All Jupyter Notebooks In A Folder To Basic HTML Using Bash  \n",
    "Date: 2016-05-01 12:00  \n",
    "Category: Command Line  \n",
    "Tags:  \n",
    "Slug: covert_all_ipynb_to_html  \n",
    "Authors: Chris Albon  \n",
    "Summary: Convert All Jupyter Notebooks In A Folder To Basic HTML Using Bash  "
   ]
  },
  {
   "cell_type": "markdown",
   "metadata": {},
   "source": [
    "_Note: This code has been commented out. To run the code, remove the comments._"
   ]
  },
  {
   "cell_type": "code",
   "execution_count": 2,
   "metadata": {
    "collapsed": false
   },
   "outputs": [
    {
     "name": "stderr",
     "output_type": "stream",
     "text": [
      "[NbConvertApp] Converting notebook covert_all_ipynb_to_html.ipynb to html\n",
      "[NbConvertApp] Writing 2632 bytes to covert_all_ipynb_to_html.html\n",
      "[NbConvertApp] Converting notebook list_all_files_and_folders_in_a_directory.ipynb to html\n",
      "[NbConvertApp] Writing 2153 bytes to list_all_files_and_folders_in_a_directory.html\n",
      "[NbConvertApp] Converting notebook open_ipython_nb_in_nondefault_browser.ipynb to html\n",
      "[NbConvertApp] Writing 1552 bytes to open_ipython_nb_in_nondefault_browser.html\n"
     ]
    }
   ],
   "source": [
    "# %%bash\n",
    "# #!/bin/bash\n",
    "\n",
    "# sets the working directory to the current directory\n",
    "# acd \"$(dirname \"$0\")\"\n",
    "\n",
    "# converts all Jupyter Notebook files to basic html\n",
    "# for f in *.ipynb; do jupyter nbconvert --to html --template basic $f; done"
   ]
  }
 ],
 "metadata": {
  "kernelspec": {
   "display_name": "Python 3",
   "language": "python",
   "name": "python3"
  },
  "language_info": {
   "codemirror_mode": {
    "name": "ipython",
    "version": 3
   },
   "file_extension": ".py",
   "mimetype": "text/x-python",
   "name": "python",
   "nbconvert_exporter": "python",
   "pygments_lexer": "ipython3",
   "version": "3.5.1"
  }
 },
 "nbformat": 4,
 "nbformat_minor": 0
}
