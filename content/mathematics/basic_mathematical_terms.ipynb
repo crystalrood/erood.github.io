{
 "cells": [
  {
   "cell_type": "markdown",
   "metadata": {},
   "source": [
    "Title: Basic Mathematical Terms In Python  \n",
    "Slug: basic_mathematical_terms_in_python  \n",
    "Summary: Basically mathematical terms with short descriptions.  \n",
    "Date: 2016-08-12 12:00  \n",
    "Category: Mathematics  \n",
    "Tags: Basics   \n",
    "Authors: Chris Albon  "
   ]
  },
  {
   "cell_type": "code",
   "execution_count": 14,
   "metadata": {
    "collapsed": true
   },
   "outputs": [],
   "source": [
    "import math"
   ]
  },
  {
   "cell_type": "markdown",
   "metadata": {},
   "source": [
    "### Ratio ###\n",
    "\n",
    "Two quantities divided by eachother, $\\frac{x}{y}$. Often written as $x:y$."
   ]
  },
  {
   "cell_type": "code",
   "execution_count": 2,
   "metadata": {
    "collapsed": false
   },
   "outputs": [
    {
     "data": {
      "text/plain": [
       "0.6666666666666666"
      ]
     },
     "execution_count": 2,
     "metadata": {},
     "output_type": "execute_result"
    }
   ],
   "source": [
    "x = 2\n",
    "y = 3\n",
    "\n",
    "x/y"
   ]
  },
  {
   "cell_type": "markdown",
   "metadata": {},
   "source": [
    "### Proportion ### \n",
    "\n",
    "One variable divided by the sum of itself and another variable: $\\left | \\frac{x}{x+y} \\right |$. Proportions range from 0 to 1. "
   ]
  },
  {
   "cell_type": "code",
   "execution_count": 3,
   "metadata": {
    "collapsed": false
   },
   "outputs": [
    {
     "data": {
      "text/plain": [
       "0.4"
      ]
     },
     "execution_count": 3,
     "metadata": {},
     "output_type": "execute_result"
    }
   ],
   "source": [
    "x = 2\n",
    "y = 3\n",
    "\n",
    "abs(x/(x+y))"
   ]
  },
  {
   "cell_type": "markdown",
   "metadata": {},
   "source": [
    "### Percentage### \n",
    "\n",
    "Proportions multiplied by 100: $\\left | \\frac{x}{x+y} \\right | \\times 100 $"
   ]
  },
  {
   "cell_type": "code",
   "execution_count": 4,
   "metadata": {
    "collapsed": false
   },
   "outputs": [
    {
     "data": {
      "text/plain": [
       "40.0"
      ]
     },
     "execution_count": 4,
     "metadata": {},
     "output_type": "execute_result"
    }
   ],
   "source": [
    "x = 2\n",
    "y = 3\n",
    "\n",
    "abs(x/(x+y))*100"
   ]
  },
  {
   "cell_type": "markdown",
   "metadata": {},
   "source": [
    "### Functions ###\n",
    "\n",
    "Functions assigns something to each element of a domain. $f\\left ( x \\right ): A \\rightarrow B$ means \"Function x maps A to B\""
   ]
  },
  {
   "cell_type": "code",
   "execution_count": 23,
   "metadata": {
    "collapsed": false
   },
   "outputs": [
    {
     "data": {
      "text/plain": [
       "9"
      ]
     },
     "execution_count": 23,
     "metadata": {},
     "output_type": "execute_result"
    }
   ],
   "source": [
    "A = 4\n",
    "\n",
    "# Create a function called x\n",
    "def x(_range):\n",
    "    B = 5\n",
    "    return _range + B\n",
    "\n",
    "x(A)"
   ]
  },
  {
   "cell_type": "markdown",
   "metadata": {},
   "source": [
    "### Exponential Function ###\n",
    "\n",
    "Multiplication of a number by itself. Example: $y^{3} = y \\times y \\times y$"
   ]
  },
  {
   "cell_type": "code",
   "execution_count": 13,
   "metadata": {
    "collapsed": false
   },
   "outputs": [
    {
     "data": {
      "text/plain": [
       "27"
      ]
     },
     "execution_count": 13,
     "metadata": {},
     "output_type": "execute_result"
    }
   ],
   "source": [
    "y = 3\n",
    "\n",
    "# y*y*y\n",
    "y**3"
   ]
  },
  {
   "cell_type": "markdown",
   "metadata": {},
   "source": [
    "### Logarithmic Function ###\n",
    "\n",
    "Inverse of exponential function, transforming exponential functions to linear functions. Logarithms tell you how many times to multiple a base to get a value. Example: $log_{a}a^{x} = x$"
   ]
  },
  {
   "cell_type": "code",
   "execution_count": 19,
   "metadata": {
    "collapsed": false
   },
   "outputs": [
    {
     "data": {
      "text/plain": [
       "4.0"
      ]
     },
     "execution_count": 19,
     "metadata": {},
     "output_type": "execute_result"
    }
   ],
   "source": [
    "a = 5.0\n",
    "x = 4.0\n",
    "\n",
    "math.log(a**x,a)"
   ]
  },
  {
   "cell_type": "markdown",
   "metadata": {},
   "source": [
    "### Natural Log ###\n",
    "\n",
    "Logarithmic Function with a base of $e$, where $e\\approx 2.7183$"
   ]
  },
  {
   "cell_type": "code",
   "execution_count": 15,
   "metadata": {
    "collapsed": false
   },
   "outputs": [
    {
     "data": {
      "text/plain": [
       "1.3862943611198906"
      ]
     },
     "execution_count": 15,
     "metadata": {},
     "output_type": "execute_result"
    }
   ],
   "source": [
    "x = 4\n",
    "\n",
    "math.log(x)"
   ]
  },
  {
   "cell_type": "markdown",
   "metadata": {},
   "source": [
    "### Sequence ###\n",
    "\n",
    "An ordered list of numbers. Example: $x = \\left \\{ 1,5,100,2,5 \\right \\}$. The $ith$ individual member of a sequence, $x$ is denoted $x_{i}$."
   ]
  },
  {
   "cell_type": "code",
   "execution_count": 21,
   "metadata": {
    "collapsed": false
   },
   "outputs": [
    {
     "data": {
      "text/plain": [
       "[1, 5, 100, 2, 5]"
      ]
     },
     "execution_count": 21,
     "metadata": {},
     "output_type": "execute_result"
    }
   ],
   "source": [
    "x = [1,5,100,2,5]\n",
    "\n",
    "x"
   ]
  },
  {
   "cell_type": "markdown",
   "metadata": {},
   "source": [
    "### Series ###\n",
    "\n",
    "The sum of a sequence, or put another way, a sequence with plus signs between elements. Example: $\\sum_{i=1}^{n}x_{i}$ is the sum of the first to the $nth$ member of a sequence, $x$."
   ]
  },
  {
   "cell_type": "code",
   "execution_count": 22,
   "metadata": {
    "collapsed": false
   },
   "outputs": [
    {
     "data": {
      "text/plain": [
       "113"
      ]
     },
     "execution_count": 22,
     "metadata": {},
     "output_type": "execute_result"
    }
   ],
   "source": [
    "x = [1,5,100,2,5]\n",
    "\n",
    "sum(x)"
   ]
  },
  {
   "cell_type": "markdown",
   "metadata": {},
   "source": [
    "### Derivative ###\n",
    "\n",
    "The instanteous rate of change of a function. Can be thought of as the slope between two points, $a$ and $b$ as the distance between them approaches being infinitely small."
   ]
  },
  {
   "cell_type": "markdown",
   "metadata": {},
   "source": [
    "### Definite integral ###\n",
    "\n",
    "The area under a curve."
   ]
  },
  {
   "cell_type": "markdown",
   "metadata": {},
   "source": [
    "### Local extrema, local maxima, local minima\n",
    "\n",
    "A high or low point of a function."
   ]
  },
  {
   "cell_type": "markdown",
   "metadata": {},
   "source": [
    "### Global extrema, global maxima, global minima ###\n",
    "\n",
    "The highest or lowest point of a function."
   ]
  },
  {
   "cell_type": "markdown",
   "metadata": {},
   "source": [
    "### Taylor Series ###\n",
    "\n",
    "Describing a function by using the information contained in the deriviatives of the function."
   ]
  },
  {
   "cell_type": "markdown",
   "metadata": {},
   "source": [
    "### Critical Point ###\n",
    "\n",
    "Any point in a function where the first derivative is 0 or doesn't exist. Basically any point where something interesting might happen."
   ]
  },
  {
   "cell_type": "markdown",
   "metadata": {},
   "source": [
    "### Inflection Point ###\n",
    "\n",
    "A point of a function where the curve switches from concave to convex or vice versa."
   ]
  },
  {
   "cell_type": "markdown",
   "metadata": {},
   "source": [
    "### Stationary Point ###\n",
    "\n",
    "A point of a function where the first derivative is 0. Can be thought of as either a peak or a valley floor."
   ]
  },
  {
   "cell_type": "markdown",
   "metadata": {},
   "source": [
    "### Saddle Point ###\n",
    "\n",
    "A point of a functon where both the first and second derivative is 0."
   ]
  },
  {
   "cell_type": "markdown",
   "metadata": {},
   "source": [
    "### Concave ###\n",
    "\n",
    "A function where the rate of increase slows as the value of the function gets bigger. Another way to think about it: if plotted in 2d, a convex function curves towards the ground."
   ]
  },
  {
   "cell_type": "markdown",
   "metadata": {},
   "source": [
    "### Convex ###\n",
    "\n",
    "A function where the rate of increase speeds up as the value of the function gets bigger. Another way to think about it: if plotted in 2d, a convex function curves towards the sky."
   ]
  },
  {
   "cell_type": "markdown",
   "metadata": {},
   "source": [
    "### Conditional Probability ###\n",
    "\n",
    "The probability an event occurs given whether or not another event occurs.\n",
    "\n",
    "$Pr\\left ( y\\mid x = 4 \\right )$ is the probability y occurs given that the event x=4 occurs."
   ]
  },
  {
   "cell_type": "markdown",
   "metadata": {},
   "source": [
    "### Combination ###\n",
    "\n",
    "From n items, choose k items, ignoring the order in which you choose them: $\\binom{n}{k}$"
   ]
  },
  {
   "cell_type": "markdown",
   "metadata": {},
   "source": [
    "### Odds and Odds Ratios ###\n",
    "\n",
    "The odds of an event are the probability of an event occurs over the probability of an event not occuring: $\\frac{Pr(x)}{Pr(~x)}$\n",
    "\n",
    "The odds ratio of two events, $x$ and $y$ are the odds of the two events:\n",
    "\n",
    "$\\frac{Pr(x)/Pr(~x)}{Pr(y)/Pr(~y)}$"
   ]
  },
  {
   "cell_type": "markdown",
   "metadata": {},
   "source": [
    "### Random Variable ###\n",
    "\n",
    "A random variable is a variable that can take an array of values, with the probability it takes a particular value determined by some random process.\n",
    "\n",
    "A distribution of a random variable is the probability of each possible value being realized."
   ]
  },
  {
   "cell_type": "markdown",
   "metadata": {},
   "source": [
    "### Probability Mass Function & Probability Distribution Function ###\n",
    "\n",
    "A function that defines the probability of each possible value occuring in a discrete (PMF) or continous (PDF) function."
   ]
  },
  {
   "cell_type": "markdown",
   "metadata": {},
   "source": [
    "### Bernoulli Distribution ###\n",
    "\n",
    "Applies only to binary random variables only (e.g. coin flips). It's PMF is written as:\n",
    "\n",
    "$$ Pr(Y = y\\mid p)=\\begin{cases}\n",
    "1-p & \\text{ for } y = 0\\\\ \n",
    "p & \\text{ for } y= 1\n",
    "\\end{cases} $$\n",
    "\n",
    "The Bernoulli distribution describes the ferquencey of two outcomes over repeated observations. It is built upon the assumption that the events of independent of eachother, meaning the outcome of one coin flip doesn't not affect the outcome of the second coin flip (from Moore and Siegel)."
   ]
  },
  {
   "cell_type": "markdown",
   "metadata": {},
   "source": [
    "### Binomial Distribution ###\n",
    "\n",
    "The PMF of the binomial distribution is:\n",
    "\n",
    "$$ Pr(Y = y\\mid n,p) = \\binom{n}{y}p^{y}(1-p)^{n-y}$$\n",
    "\n",
    "The binomial distribution describes any discrete distribution with three or more observations where (1) each observation is composed of a binary outcome, (2) the observations are independent, and (3) we have a record of the number of times one value was obtained (from Moore and Siegel)."
   ]
  },
  {
   "cell_type": "markdown",
   "metadata": {},
   "source": [
    "### Poisson Distribution ###\n",
    "\n",
    "The Poisson distribution the number of times you observe one event, two events, three events, etc over a fixed period of time. Put another way, it describes the distribution of event counts for rare, random events (from Moore and Siegel).\n",
    "\n",
    "$$Pr(Y=y|u)=\\frac{u^y}{y!\\times e^u}$$\n",
    "\n",
    "For example, the Poisson distribution would describe the probability of observing 10 wars in a century."
   ]
  },
  {
   "cell_type": "markdown",
   "metadata": {},
   "source": [
    "### Negative Binomial Distribution ###\n",
    "\n",
    "The NB distribution describes the number of events occuring prior to observing the kth non-event. For example, the number of successful surgeries performed before the 6th failed surgery."
   ]
  },
  {
   "cell_type": "markdown",
   "metadata": {},
   "source": [
    "### Expectation Of Random Variables ###\n",
    "\n",
    "The most likely value a random variable takes. Written $E[X]$."
   ]
  },
  {
   "cell_type": "markdown",
   "metadata": {},
   "source": [
    "### Moments Of A Distribution ###\n",
    "\n",
    "Moments of a distribution are the parameters used to describe a distribution.\n",
    "\n",
    "- First moment: Mean\n",
    "- Second moment: Variance\n",
    "- Third moment: Skewness\n",
    "- Fourth moment: Kurtosis (flatness or peakedness)"
   ]
  },
  {
   "cell_type": "markdown",
   "metadata": {},
   "source": [
    "### Uniform Distribution ###\n",
    "\n",
    "Assigns an equal probability to all possible events."
   ]
  },
  {
   "cell_type": "markdown",
   "metadata": {},
   "source": [
    "### Gaussian-Normal Distribution ###\n",
    "\n",
    "The bell curve. Defined by two moments: mean and variance."
   ]
  },
  {
   "cell_type": "markdown",
   "metadata": {},
   "source": [
    "### Logistic Distribution ###\n",
    "\n",
    "Often used to model binary outcomes. Defined by two moments: mean and variance."
   ]
  },
  {
   "cell_type": "markdown",
   "metadata": {},
   "source": [
    "### Exponential Distribution ###\n",
    "\n",
    "The exponential distribution describes events produced by a process with a constant risk of failure (from Moore and Siegel)."
   ]
  },
  {
   "cell_type": "markdown",
   "metadata": {},
   "source": [
    "### Pareto Distribution ###\n",
    "\n",
    "A distribution in which prior values affect later values."
   ]
  },
  {
   "cell_type": "markdown",
   "metadata": {},
   "source": [
    "### Gamma Distribution ###\n",
    "\n",
    "While the exponential distribution assumes contant risk, the Gamma distribution allows risk to vary over a number of periods."
   ]
  },
  {
   "cell_type": "markdown",
   "metadata": {},
   "source": [
    "### Weibull Distribution ###\n",
    "\n",
    "\"[Weibull distribution] can be interpreted as if several processes are running in parallel, with the first to stop ending the duration. This is the weakest link mechanism, as when the failure of some part causes a machine to break down and the total operating time of the machine is the duration.\" (Lindsey 1995, p. 133)"
   ]
  },
  {
   "cell_type": "markdown",
   "metadata": {},
   "source": [
    "### Chi-squared Distribution ###\n",
    "\n",
    "\"The sum of squares of n independent variables each distributed according to a standard normal distribution is distributed according to a chi-squared distribution.\" (Moore and Siegel)"
   ]
  },
  {
   "cell_type": "markdown",
   "metadata": {},
   "source": [
    "### Student's t Distribution ###\n",
    "\n",
    "This distribution looks like a normal distribution when N is big enough, but with thicker tails when N is small."
   ]
  },
  {
   "cell_type": "markdown",
   "metadata": {},
   "source": [
    "### Vector ###\n",
    "\n",
    "An 'arrow' in n-dimensional space. For example, in a 2d coordinate plane, the vector (2,3) is x=2 and y=3."
   ]
  },
  {
   "cell_type": "markdown",
   "metadata": {},
   "source": [
    "### Length Of A Vector ###\n",
    "\n",
    "If you think of a 2d coordinate plane, and have a vector (x,y), then you have a point at x,y. The distance from 0 (the origin) to x,y is the vector's length.\n",
    "\n",
    "The length of vector $a$ is denoted $\\left \\| a \\right \\|$ and is calculated $\\sqrt{a_{1}^{2}+a_{2}^{2}+...+a_{n}^{2}}$"
   ]
  },
  {
   "cell_type": "markdown",
   "metadata": {},
   "source": [
    "### Vector Addition ###\n",
    "\n",
    "To add two vectors, add each corresponding element. For example, for vectors $\\boldsymbol{a}$ and $\\boldsymbol{b}$, the sum would be $(a_{1}+b_{1}, a_{2}+b_{2}, ... a_{n}+b_{n})$\n",
    "\n",
    "To add the lengths of two vectors, the process is the same:\n",
    "\n",
    "\n",
    "$$\\left \\| \\boldsymbol{a} + \\boldsymbol{b} \\right \\| = \\sqrt{(a_{1}+b_{1})^{2}+(a_{2}+b_{2})^{2}+...+(a_{n}+b_{n})^{2}}$$\n"
   ]
  },
  {
   "cell_type": "markdown",
   "metadata": {},
   "source": [
    "### Multiply A Scalar By A Vector ###\n",
    "\n",
    "Simply multiply each element of the vector by the scalar. For example:\n",
    "    \n",
    "$$c\\boldsymbol{x} = (cx_{1}, cx_{2}, ... cx_{x})$$"
   ]
  },
  {
   "cell_type": "markdown",
   "metadata": {},
   "source": [
    "### Dot Product ###\n",
    "\n",
    "One way of thinking about the dot product is that if two vectors are imagined as two arrows pointing out into a 2nd coordinate plane, the dot product is the vector starting at one endpoint and going to the other endpoint.\n",
    "\n",
    "Because if two vectors are perpendicular then the dot product is 0 (because the cosine of the angle they create is 0), the dot product is used to tell you if two vectors are perpendicular/orthogonal/independent.\n",
    "\n",
    "$$\\boldsymbol{a} \\cdot  \\boldsymbol{b} = a_{1}b_{1} + a_{2}b_{2} + ... a_{n}b_{n}$$"
   ]
  },
  {
   "cell_type": "markdown",
   "metadata": {},
   "source": [
    "### Matrix ###\n",
    "\n",
    "A matrix is a rectangular table of numbers of variables that contains rows and columns. It is typically described as an $n \\times m$ matrix, meaning $n$ nows and $m$ columns.\n",
    "\n",
    "$$A_{3x3} = \\begin{pmatrix}\n",
    "a_{11} & a_{12} & a_{31}\\\\ \n",
    "a_{21} &  a_{22}& a_{32}\\\\ \n",
    "a_{31} & a_{32} & a_{33}\n",
    "\\end{pmatrix}$$"
   ]
  },
  {
   "cell_type": "markdown",
   "metadata": {},
   "source": [
    "### Scalar Matrix Multiplication ###\n",
    "\n",
    "To multiply a scalar by a matrix, simply multiply each element of the matrix by the scalar.\n",
    "\n",
    "$$2 \\times \\begin{bmatrix}\n",
    "1 & 2\\\\ \n",
    "3 & 4\n",
    "\\end{bmatrix} = \\begin{bmatrix}\n",
    "2 & 4\\\\ \n",
    "6 & 8\n",
    "\\end{bmatrix}$$"
   ]
  },
  {
   "cell_type": "markdown",
   "metadata": {},
   "source": [
    "### Matrix Multiplication ###\n",
    "\n",
    "To multiply two matrices, it is simply the dot product of the each of first matrix's rows and the second matrix's columns.\n",
    "\n",
    "$$\\begin{bmatrix}\n",
    "1 & 2\\\\ \n",
    "3 & 4\\\\ \n",
    "5 & 6\n",
    "\\end{bmatrix}\\times  \\begin{bmatrix}\n",
    "1 &  2& 3\\\\ 4 &  5& 6\n",
    "\\end{bmatrix} = \\begin{bmatrix}\n",
    "(1\\times1) + (2\\times4)&  (1\\times2) + (2\\times5)& (1\\times3) + (2\\times6)\\\\ \n",
    "(3\\times1) + (4\\times4) &  (3\\times2) + (4\\times5)& (3\\times3) + (4\\times6)\\\\ \n",
    "(5\\times1) + (6\\times4) & (5\\times2) + (6\\times5) & (5\\times3) + (6\\times6)\n",
    "\\end{bmatrix} $$"
   ]
  },
  {
   "cell_type": "markdown",
   "metadata": {},
   "source": [
    "### Trace Of A Matrix ###\n",
    "\n",
    "The trace of a matrix is the sum of it's diagonal elements."
   ]
  },
  {
   "cell_type": "markdown",
   "metadata": {},
   "source": [
    "### Identity Matrix ###\n",
    "\n",
    "A square matrix of $1$ on the diagonal elements and $0$ everywhere else.\n",
    "\n",
    "$$\\begin{bmatrix}\n",
    "1 & 0\\\\ \n",
    "0 & 1\n",
    "\\end{bmatrix}$$"
   ]
  },
  {
   "cell_type": "markdown",
   "metadata": {},
   "source": [
    "### Inverse Of A Matrix ###\n",
    "\n",
    "The inverse of a matrix, $\\boldsymbol{A}$, is a second matrix, $\\boldsymbol{A}^{-1}$, such that $\\boldsymbol{A} \\cdot \\boldsymbol{A}^{-1} = \\boldsymbol{I}$, where $\\boldsymbol{I}$ is an identity matrix."
   ]
  },
  {
   "cell_type": "markdown",
   "metadata": {},
   "source": [
    "### Matrix Rank ###\n",
    "\n",
    "The rank of a matrix is the maximum number of linearly independent rows or columns."
   ]
  },
  {
   "cell_type": "markdown",
   "metadata": {},
   "source": [
    "### Eigenvalue and Eigenvector ###\n",
    "\n",
    "An eigenvalue of a matrix is the solution to $A\\boldsymbol{x}=\\lambda\\boldsymbol{x}$, where $\\boldsymbol{x}$ is called the eigenvector, and $\\lambda$ is called the eigenvalue.\n",
    "\n",
    "If the eigenvector $\\boldsymbol{x}$ is multiplied by $A$, then $\\boldsymbol{x}$ ends up as a scalar multiple of itself that always stays pointed in the same direction but just gets longer or shorter. The $\\lambda$ tells us how much longer or shorter it is.\n",
    "\n",
    "In some cases like Markov Chains, researchers think of the eigenvector, $\\boldsymbol{x}$, as the state of the system, and $A$ as the transition matrix between states."
   ]
  },
  {
   "cell_type": "markdown",
   "metadata": {},
   "source": [
    "### Markov Chains ##\n",
    "\n",
    "Markov processes are memoryless, meaning there is no dependence between the present state and the past state. A Markov chain is a stochastic process that is memoryless."
   ]
  }
 ],
 "metadata": {
  "kernelspec": {
   "display_name": "Python 3",
   "language": "python",
   "name": "python3"
  },
  "language_info": {
   "codemirror_mode": {
    "name": "ipython",
    "version": 3
   },
   "file_extension": ".py",
   "mimetype": "text/x-python",
   "name": "python",
   "nbconvert_exporter": "python",
   "pygments_lexer": "ipython3",
   "version": "3.5.1"
  }
 },
 "nbformat": 4,
 "nbformat_minor": 0
}
